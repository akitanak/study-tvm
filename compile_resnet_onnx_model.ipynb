{
 "cells": [
  {
   "cell_type": "markdown",
   "metadata": {},
   "source": [
    "# Compile ONNX models"
   ]
  },
  {
   "cell_type": "code",
   "execution_count": 1,
   "metadata": {},
   "outputs": [],
   "source": [
    "import onnx\n",
    "import numpy as np\n",
    "import tvm\n",
    "import tvm.relay as relay\n",
    "from tvm.contrib.download import download_testdata"
   ]
  },
  {
   "cell_type": "markdown",
   "metadata": {},
   "source": [
    "## Load pretrained ONNX model"
   ]
  },
  {
   "cell_type": "code",
   "execution_count": 2,
   "metadata": {},
   "outputs": [
    {
     "name": "stdout",
     "output_type": "stream",
     "text": [
      "File /Users/akitanak/.tvm_test_data/onnx/resnet50v2.onnx exists, skip.\n"
     ]
    }
   ],
   "source": [
    "import tarfile\n",
    "\n",
    "model_url = 'https://s3.amazonaws.com/onnx-model-zoo/resnet/resnet50v2/resnet50v2.onnx'\n",
    "model_path = download_testdata(model_url, 'resnet50v2.onnx', module='onnx')\n",
    "\n",
    "onnx_model = onnx.load(model_path)"
   ]
  },
  {
   "cell_type": "markdown",
   "metadata": {},
   "source": [
    "## Load Labels"
   ]
  },
  {
   "cell_type": "code",
   "execution_count": 24,
   "metadata": {},
   "outputs": [
    {
     "name": "stdout",
     "output_type": "stream",
     "text": [
      "File /Users/akitanak/.tvm_test_data/data/synset.txt exists, skip.\n"
     ]
    }
   ],
   "source": [
    "label_url = 'https://s3.amazonaws.com/onnx-model-zoo/synset.txt'\n",
    "label_path = download_testdata(label_url, 'synset.txt', module='data')\n",
    "with open(label_path) as f:\n",
    "    labels = [l.rstrip() for l in f]\n"
   ]
  },
  {
   "cell_type": "markdown",
   "metadata": {},
   "source": [
    "## Load a test image"
   ]
  },
  {
   "cell_type": "code",
   "execution_count": 3,
   "metadata": {},
   "outputs": [
    {
     "name": "stdout",
     "output_type": "stream",
     "text": [
      "File /Users/akitanak/.tvm_test_data/data/cat.png exists, skip.\n"
     ]
    }
   ],
   "source": [
    "from PIL import Image\n",
    "img_url = 'https://github.com/dmlc/mxnet.js/blob/master/data/cat.png?raw=true'\n",
    "img_path = download_testdata(img_url, 'cat.png', module='data')\n",
    "img = Image.open(img_path).resize((224, 224))\n",
    "\n",
    "def preprocess(img_data):\n",
    "    mean_vec = np.array([0.485, 0.456, 0.406])\n",
    "    stddev_vec = np.array([0.229, 0.224, 0.225])\n",
    "    norm_img_data = np.zeros(img_data.shape).astype('float32')\n",
    "    for i in range(img_data.shape[0]):  \n",
    "         # for each pixel in each channel, divide the value by 255 to get value between [0, 1] and then normalize\n",
    "        norm_img_data[i,:,:] = (img_data[i,:,:]/255 - mean_vec[i]) / stddev_vec[i]\n",
    "    return norm_img_data\n",
    "\n",
    "img_arr = np.asarray(img)\n",
    "img_arr = np.array([\n",
    "    img_arr[:,:,0],\n",
    "    img_arr[:,:,1],\n",
    "    img_arr[:,:,2]\n",
    "])\n",
    "x = np.array([preprocess(img_arr)])\n"
   ]
  },
  {
   "cell_type": "markdown",
   "metadata": {},
   "source": [
    "## Compile the model with relay"
   ]
  },
  {
   "cell_type": "code",
   "execution_count": 4,
   "metadata": {},
   "outputs": [
    {
     "name": "stderr",
     "output_type": "stream",
     "text": [
      "WARNING:root:Attribute momentum is ignored in relay.sym.batch_norm\n",
      "WARNING:root:Attribute spatial is ignored in relay.sym.batch_norm\n",
      "WARNING:root:Attribute momentum is ignored in relay.sym.batch_norm\n",
      "WARNING:root:Attribute spatial is ignored in relay.sym.batch_norm\n",
      "WARNING:root:Attribute momentum is ignored in relay.sym.batch_norm\n",
      "WARNING:root:Attribute spatial is ignored in relay.sym.batch_norm\n",
      "WARNING:root:Attribute momentum is ignored in relay.sym.batch_norm\n",
      "WARNING:root:Attribute spatial is ignored in relay.sym.batch_norm\n",
      "WARNING:root:Attribute momentum is ignored in relay.sym.batch_norm\n",
      "WARNING:root:Attribute spatial is ignored in relay.sym.batch_norm\n",
      "WARNING:root:Attribute momentum is ignored in relay.sym.batch_norm\n",
      "WARNING:root:Attribute spatial is ignored in relay.sym.batch_norm\n",
      "WARNING:root:Attribute momentum is ignored in relay.sym.batch_norm\n",
      "WARNING:root:Attribute spatial is ignored in relay.sym.batch_norm\n",
      "WARNING:root:Attribute momentum is ignored in relay.sym.batch_norm\n",
      "WARNING:root:Attribute spatial is ignored in relay.sym.batch_norm\n",
      "WARNING:root:Attribute momentum is ignored in relay.sym.batch_norm\n",
      "WARNING:root:Attribute spatial is ignored in relay.sym.batch_norm\n",
      "WARNING:root:Attribute momentum is ignored in relay.sym.batch_norm\n",
      "WARNING:root:Attribute spatial is ignored in relay.sym.batch_norm\n",
      "WARNING:root:Attribute momentum is ignored in relay.sym.batch_norm\n",
      "WARNING:root:Attribute spatial is ignored in relay.sym.batch_norm\n",
      "WARNING:root:Attribute momentum is ignored in relay.sym.batch_norm\n",
      "WARNING:root:Attribute spatial is ignored in relay.sym.batch_norm\n",
      "WARNING:root:Attribute momentum is ignored in relay.sym.batch_norm\n",
      "WARNING:root:Attribute spatial is ignored in relay.sym.batch_norm\n",
      "WARNING:root:Attribute momentum is ignored in relay.sym.batch_norm\n",
      "WARNING:root:Attribute spatial is ignored in relay.sym.batch_norm\n",
      "WARNING:root:Attribute momentum is ignored in relay.sym.batch_norm\n",
      "WARNING:root:Attribute spatial is ignored in relay.sym.batch_norm\n",
      "WARNING:root:Attribute momentum is ignored in relay.sym.batch_norm\n",
      "WARNING:root:Attribute spatial is ignored in relay.sym.batch_norm\n",
      "WARNING:root:Attribute momentum is ignored in relay.sym.batch_norm\n",
      "WARNING:root:Attribute spatial is ignored in relay.sym.batch_norm\n",
      "WARNING:root:Attribute momentum is ignored in relay.sym.batch_norm\n",
      "WARNING:root:Attribute spatial is ignored in relay.sym.batch_norm\n",
      "WARNING:root:Attribute momentum is ignored in relay.sym.batch_norm\n",
      "WARNING:root:Attribute spatial is ignored in relay.sym.batch_norm\n",
      "WARNING:root:Attribute momentum is ignored in relay.sym.batch_norm\n",
      "WARNING:root:Attribute spatial is ignored in relay.sym.batch_norm\n",
      "WARNING:root:Attribute momentum is ignored in relay.sym.batch_norm\n",
      "WARNING:root:Attribute spatial is ignored in relay.sym.batch_norm\n",
      "WARNING:root:Attribute momentum is ignored in relay.sym.batch_norm\n",
      "WARNING:root:Attribute spatial is ignored in relay.sym.batch_norm\n",
      "WARNING:root:Attribute momentum is ignored in relay.sym.batch_norm\n",
      "WARNING:root:Attribute spatial is ignored in relay.sym.batch_norm\n",
      "WARNING:root:Attribute momentum is ignored in relay.sym.batch_norm\n",
      "WARNING:root:Attribute spatial is ignored in relay.sym.batch_norm\n",
      "WARNING:root:Attribute momentum is ignored in relay.sym.batch_norm\n",
      "WARNING:root:Attribute spatial is ignored in relay.sym.batch_norm\n",
      "WARNING:root:Attribute momentum is ignored in relay.sym.batch_norm\n",
      "WARNING:root:Attribute spatial is ignored in relay.sym.batch_norm\n",
      "WARNING:root:Attribute momentum is ignored in relay.sym.batch_norm\n",
      "WARNING:root:Attribute spatial is ignored in relay.sym.batch_norm\n",
      "WARNING:root:Attribute momentum is ignored in relay.sym.batch_norm\n",
      "WARNING:root:Attribute spatial is ignored in relay.sym.batch_norm\n",
      "WARNING:root:Attribute momentum is ignored in relay.sym.batch_norm\n",
      "WARNING:root:Attribute spatial is ignored in relay.sym.batch_norm\n",
      "WARNING:root:Attribute momentum is ignored in relay.sym.batch_norm\n",
      "WARNING:root:Attribute spatial is ignored in relay.sym.batch_norm\n",
      "WARNING:root:Attribute momentum is ignored in relay.sym.batch_norm\n",
      "WARNING:root:Attribute spatial is ignored in relay.sym.batch_norm\n",
      "WARNING:root:Attribute momentum is ignored in relay.sym.batch_norm\n",
      "WARNING:root:Attribute spatial is ignored in relay.sym.batch_norm\n",
      "WARNING:root:Attribute momentum is ignored in relay.sym.batch_norm\n",
      "WARNING:root:Attribute spatial is ignored in relay.sym.batch_norm\n",
      "WARNING:root:Attribute momentum is ignored in relay.sym.batch_norm\n",
      "WARNING:root:Attribute spatial is ignored in relay.sym.batch_norm\n",
      "WARNING:root:Attribute momentum is ignored in relay.sym.batch_norm\n",
      "WARNING:root:Attribute spatial is ignored in relay.sym.batch_norm\n",
      "WARNING:root:Attribute momentum is ignored in relay.sym.batch_norm\n",
      "WARNING:root:Attribute spatial is ignored in relay.sym.batch_norm\n",
      "WARNING:root:Attribute momentum is ignored in relay.sym.batch_norm\n",
      "WARNING:root:Attribute spatial is ignored in relay.sym.batch_norm\n",
      "WARNING:root:Attribute momentum is ignored in relay.sym.batch_norm\n",
      "WARNING:root:Attribute spatial is ignored in relay.sym.batch_norm\n",
      "WARNING:root:Attribute momentum is ignored in relay.sym.batch_norm\n",
      "WARNING:root:Attribute spatial is ignored in relay.sym.batch_norm\n",
      "WARNING:root:Attribute momentum is ignored in relay.sym.batch_norm\n",
      "WARNING:root:Attribute spatial is ignored in relay.sym.batch_norm\n",
      "WARNING:root:Attribute momentum is ignored in relay.sym.batch_norm\n",
      "WARNING:root:Attribute spatial is ignored in relay.sym.batch_norm\n",
      "WARNING:root:Attribute momentum is ignored in relay.sym.batch_norm\n",
      "WARNING:root:Attribute spatial is ignored in relay.sym.batch_norm\n",
      "WARNING:root:Attribute momentum is ignored in relay.sym.batch_norm\n",
      "WARNING:root:Attribute spatial is ignored in relay.sym.batch_norm\n",
      "WARNING:root:Attribute momentum is ignored in relay.sym.batch_norm\n",
      "WARNING:root:Attribute spatial is ignored in relay.sym.batch_norm\n",
      "WARNING:root:Attribute momentum is ignored in relay.sym.batch_norm\n",
      "WARNING:root:Attribute spatial is ignored in relay.sym.batch_norm\n",
      "WARNING:root:Attribute momentum is ignored in relay.sym.batch_norm\n",
      "WARNING:root:Attribute spatial is ignored in relay.sym.batch_norm\n",
      "WARNING:root:Attribute momentum is ignored in relay.sym.batch_norm\n",
      "WARNING:root:Attribute spatial is ignored in relay.sym.batch_norm\n",
      "WARNING:root:Attribute momentum is ignored in relay.sym.batch_norm\n",
      "WARNING:root:Attribute spatial is ignored in relay.sym.batch_norm\n",
      "WARNING:root:Attribute momentum is ignored in relay.sym.batch_norm\n",
      "WARNING:root:Attribute spatial is ignored in relay.sym.batch_norm\n",
      "WARNING:root:Attribute momentum is ignored in relay.sym.batch_norm\n",
      "WARNING:root:Attribute spatial is ignored in relay.sym.batch_norm\n",
      "WARNING:root:Attribute momentum is ignored in relay.sym.batch_norm\n",
      "WARNING:root:Attribute spatial is ignored in relay.sym.batch_norm\n"
     ]
    }
   ],
   "source": [
    "target = 'llvm'\n",
    "\n",
    "input_name = 'data'\n",
    "shape_dict = {input_name: x.shape}\n",
    "sym, params = relay.frontend.from_onnx(onnx_model, shape_dict)\n",
    "\n",
    "with relay.build_config(opt_level=1):\n",
    "    intrp = relay.build_module.create_executor('graph', sym, tvm.cpu(0), target)"
   ]
  },
  {
   "cell_type": "code",
   "execution_count": 5,
   "metadata": {},
   "outputs": [
    {
     "name": "stderr",
     "output_type": "stream",
     "text": [
      "WARNING:autotvm:Cannot find config for target=llvm, workload=('dense', (1, 2048, 'float32'), (1000, 2048, 'float32'), 0, 'float32'). A fallback configuration is used, which may bring great performance regression.\n",
      "WARNING:autotvm:Cannot find config for target=llvm, workload=('conv2d', (1, 512, 14, 14, 'float32'), (512, 512, 3, 3, 'float32'), (2, 2), (1, 1), (1, 1), 'NCHW', 'float32'). A fallback configuration is used, which may bring great performance regression.\n",
      "WARNING:autotvm:Cannot find config for target=llvm, workload=('conv2d', (1, 1024, 14, 14, 'float32'), (512, 1024, 1, 1, 'float32'), (1, 1), (0, 0), (1, 1), 'NCHW', 'float32'). A fallback configuration is used, which may bring great performance regression.\n",
      "WARNING:autotvm:Cannot find config for target=llvm, workload=('conv2d', (1, 256, 28, 28, 'float32'), (256, 256, 3, 3, 'float32'), (2, 2), (1, 1), (1, 1), 'NCHW', 'float32'). A fallback configuration is used, which may bring great performance regression.\n",
      "WARNING:autotvm:Cannot find config for target=llvm, workload=('conv2d', (1, 512, 28, 28, 'float32'), (256, 512, 1, 1, 'float32'), (1, 1), (0, 0), (1, 1), 'NCHW', 'float32'). A fallback configuration is used, which may bring great performance regression.\n",
      "WARNING:autotvm:Cannot find config for target=llvm, workload=('conv2d', (1, 128, 56, 56, 'float32'), (128, 128, 3, 3, 'float32'), (2, 2), (1, 1), (1, 1), 'NCHW', 'float32'). A fallback configuration is used, which may bring great performance regression.\n",
      "WARNING:autotvm:Cannot find config for target=llvm, workload=('conv2d', (1, 256, 56, 56, 'float32'), (128, 256, 1, 1, 'float32'), (1, 1), (0, 0), (1, 1), 'NCHW', 'float32'). A fallback configuration is used, which may bring great performance regression.\n"
     ]
    }
   ],
   "source": [
    "dtype = 'float32'\n",
    "tvm_output = intrp.evaluate(sym)(tvm.nd.array(x.astype(dtype)), **params).asnumpy()"
   ]
  },
  {
   "cell_type": "code",
   "execution_count": 36,
   "metadata": {},
   "outputs": [
    {
     "data": {
      "text/plain": [
       "'n02123159 tiger cat'"
      ]
     },
     "execution_count": 36,
     "metadata": {},
     "output_type": "execute_result"
    }
   ],
   "source": [
    "import torch\n",
    "output_tensor = torch.from_numpy(tvm_output)\n",
    "labels[torch.argmax(output_tensor)]"
   ]
  },
  {
   "cell_type": "code",
   "execution_count": null,
   "metadata": {},
   "outputs": [],
   "source": []
  }
 ],
 "metadata": {
  "kernelspec": {
   "display_name": "Python 3",
   "language": "python",
   "name": "python3"
  },
  "language_info": {
   "codemirror_mode": {
    "name": "ipython",
    "version": 3
   },
   "file_extension": ".py",
   "mimetype": "text/x-python",
   "name": "python",
   "nbconvert_exporter": "python",
   "pygments_lexer": "ipython3",
   "version": "3.6.8"
  }
 },
 "nbformat": 4,
 "nbformat_minor": 2
}
